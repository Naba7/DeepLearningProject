{
  "nbformat": 4,
  "nbformat_minor": 0,
  "metadata": {
    "colab": {
      "name": "autoencoder.ipynb",
      "version": "0.3.2",
      "provenance": [],
      "collapsed_sections": [],
      "include_colab_link": true
    },
    "kernelspec": {
      "name": "python3",
      "display_name": "Python 3"
    },
    "accelerator": "GPU"
  },
  "cells": [
    {
      "cell_type": "markdown",
      "metadata": {
        "id": "view-in-github",
        "colab_type": "text"
      },
      "source": [
        "<a href=\"https://colab.research.google.com/github/Naba7/DeepLearningProjects/blob/master/autoencoder.ipynb\" target=\"_parent\"><img src=\"https://colab.research.google.com/assets/colab-badge.svg\" alt=\"Open In Colab\"/></a>"
      ]
    },
    {
      "cell_type": "code",
      "metadata": {
        "id": "lNrP7dPCl5Rn",
        "colab_type": "code",
        "outputId": "2e525bbc-7892-45fa-9b8f-8b3503096bf1",
        "colab": {
          "base_uri": "https://localhost:8080/",
          "height": 34
        }
      },
      "source": [
        "from keras.layers import Dense,Input\n",
        "from keras.models import Model"
      ],
      "execution_count": 0,
      "outputs": [
        {
          "output_type": "stream",
          "text": [
            "Using TensorFlow backend.\n"
          ],
          "name": "stderr"
        }
      ]
    },
    {
      "cell_type": "code",
      "metadata": {
        "id": "jeJZeIOjtOjE",
        "colab_type": "code",
        "colab": {}
      },
      "source": [
        "encoding_dim = 32"
      ],
      "execution_count": 0,
      "outputs": []
    },
    {
      "cell_type": "code",
      "metadata": {
        "id": "lvho5AestWLA",
        "colab_type": "code",
        "outputId": "e52b4c9e-8bb0-4f23-b6d2-0a23c2733121",
        "colab": {
          "base_uri": "https://localhost:8080/",
          "height": 124
        }
      },
      "source": [
        "input_img = Input(shape=(784,))"
      ],
      "execution_count": 0,
      "outputs": [
        {
          "output_type": "stream",
          "text": [
            "WARNING: Logging before flag parsing goes to stderr.\n",
            "W0701 13:25:10.659849 140168879798144 deprecation_wrapper.py:119] From /usr/local/lib/python3.6/dist-packages/keras/backend/tensorflow_backend.py:74: The name tf.get_default_graph is deprecated. Please use tf.compat.v1.get_default_graph instead.\n",
            "\n",
            "W0701 13:25:10.695892 140168879798144 deprecation_wrapper.py:119] From /usr/local/lib/python3.6/dist-packages/keras/backend/tensorflow_backend.py:517: The name tf.placeholder is deprecated. Please use tf.compat.v1.placeholder instead.\n",
            "\n"
          ],
          "name": "stderr"
        }
      ]
    },
    {
      "cell_type": "code",
      "metadata": {
        "id": "oZIZyK4ctfAM",
        "colab_type": "code",
        "outputId": "d3e7b751-4b12-44f6-b3f2-a6ee5c33025e",
        "colab": {
          "base_uri": "https://localhost:8080/",
          "height": 72
        }
      },
      "source": [
        "encoded = Dense(encoding_dim, activation = 'relu')(input_img)"
      ],
      "execution_count": 0,
      "outputs": [
        {
          "output_type": "stream",
          "text": [
            "W0701 13:29:39.144076 140168879798144 deprecation_wrapper.py:119] From /usr/local/lib/python3.6/dist-packages/keras/backend/tensorflow_backend.py:4138: The name tf.random_uniform is deprecated. Please use tf.random.uniform instead.\n",
            "\n"
          ],
          "name": "stderr"
        }
      ]
    },
    {
      "cell_type": "code",
      "metadata": {
        "id": "hwXxbCS3ubTC",
        "colab_type": "code",
        "colab": {}
      },
      "source": [
        "decoded = Dense(784, activation = 'sigmoid')(encoded)"
      ],
      "execution_count": 0,
      "outputs": []
    },
    {
      "cell_type": "code",
      "metadata": {
        "id": "F4EqVIBCutWV",
        "colab_type": "code",
        "colab": {}
      },
      "source": [
        "autoencoder = Model(input_img, decoded)"
      ],
      "execution_count": 0,
      "outputs": []
    },
    {
      "cell_type": "code",
      "metadata": {
        "id": "HNbdFAScu1Ne",
        "colab_type": "code",
        "colab": {}
      },
      "source": [
        "encoder = Model(input_img, encoded)"
      ],
      "execution_count": 0,
      "outputs": []
    },
    {
      "cell_type": "code",
      "metadata": {
        "id": "psJYs7BavBfg",
        "colab_type": "code",
        "colab": {}
      },
      "source": [
        "encoded_input = Input(shape=(encoding_dim,))\n",
        "decoder_layer = autoencoder.layers[-1]\n",
        "decoder = Model(encoded_input, decoder_layer(encoded_input))"
      ],
      "execution_count": 0,
      "outputs": []
    },
    {
      "cell_type": "code",
      "metadata": {
        "id": "i4k1ZXyhyzUC",
        "colab_type": "code",
        "outputId": "3e33efc1-47b8-4f68-a932-3a3f8a6d21d7",
        "colab": {
          "base_uri": "https://localhost:8080/",
          "height": 159
        }
      },
      "source": [
        "autoencoder.compile(optimizer='adadelta', loss='binary_crossentropy')"
      ],
      "execution_count": 0,
      "outputs": [
        {
          "output_type": "stream",
          "text": [
            "W0701 13:54:14.729480 140168879798144 deprecation_wrapper.py:119] From /usr/local/lib/python3.6/dist-packages/keras/optimizers.py:790: The name tf.train.Optimizer is deprecated. Please use tf.compat.v1.train.Optimizer instead.\n",
            "\n",
            "W0701 13:54:14.752686 140168879798144 deprecation_wrapper.py:119] From /usr/local/lib/python3.6/dist-packages/keras/backend/tensorflow_backend.py:3376: The name tf.log is deprecated. Please use tf.math.log instead.\n",
            "\n",
            "W0701 13:54:14.759651 140168879798144 deprecation.py:323] From /usr/local/lib/python3.6/dist-packages/tensorflow/python/ops/nn_impl.py:180: add_dispatch_support.<locals>.wrapper (from tensorflow.python.ops.array_ops) is deprecated and will be removed in a future version.\n",
            "Instructions for updating:\n",
            "Use tf.where in 2.0, which has the same broadcast rule as np.where\n"
          ],
          "name": "stderr"
        }
      ]
    },
    {
      "cell_type": "code",
      "metadata": {
        "id": "P1rsjBJX0I17",
        "colab_type": "code",
        "outputId": "cddde995-f162-4cfd-bad3-17ad7a1315b3",
        "colab": {
          "base_uri": "https://localhost:8080/",
          "height": 52
        }
      },
      "source": [
        "from keras.datasets import mnist\n",
        "import numpy as np\n",
        "(x_train, _), (x_test, _) = mnist.load_data()"
      ],
      "execution_count": 0,
      "outputs": [
        {
          "output_type": "stream",
          "text": [
            "Downloading data from https://s3.amazonaws.com/img-datasets/mnist.npz\n",
            "11493376/11490434 [==============================] - 0s 0us/step\n"
          ],
          "name": "stdout"
        }
      ]
    },
    {
      "cell_type": "code",
      "metadata": {
        "id": "UXniZHUc1TaR",
        "colab_type": "code",
        "colab": {}
      },
      "source": [
        "x_train = x_train.astype('float32') / 255.\n",
        "x_test = x_test.astype('float32') / 255.\n",
        "x_train = x_train.reshape((len(x_train), np.prod(x_train.shape[1:])))\n",
        "x_test = x_test.reshape((len(x_test), np.prod(x_test.shape[1:])))\n"
      ],
      "execution_count": 0,
      "outputs": []
    },
    {
      "cell_type": "code",
      "metadata": {
        "id": "LeeA-RkG5Up7",
        "colab_type": "code",
        "outputId": "ade0717f-2f5c-4c05-848a-a27ce60943b1",
        "colab": {
          "base_uri": "https://localhost:8080/",
          "height": 52
        }
      },
      "source": [
        "print(x_train.shape)\n",
        "print(x_test.shape)"
      ],
      "execution_count": 0,
      "outputs": [
        {
          "output_type": "stream",
          "text": [
            "(60000, 784)\n",
            "(10000, 784)\n"
          ],
          "name": "stdout"
        }
      ]
    },
    {
      "cell_type": "code",
      "metadata": {
        "id": "TdSXFNIt5b4N",
        "colab_type": "code",
        "outputId": "1d3b838d-53d8-430a-ce38-3ff4f1aa3290",
        "colab": {
          "base_uri": "https://localhost:8080/",
          "height": 1000
        }
      },
      "source": [
        "autoencoder.fit(x_train, x_train,\n",
        "                epochs=50,\n",
        "                batch_size=256,\n",
        "                shuffle=True,\n",
        "                validation_data=(x_test, x_test))"
      ],
      "execution_count": 0,
      "outputs": [
        {
          "output_type": "stream",
          "text": [
            "W0701 14:21:21.792441 140168879798144 deprecation_wrapper.py:119] From /usr/local/lib/python3.6/dist-packages/keras/backend/tensorflow_backend.py:986: The name tf.assign_add is deprecated. Please use tf.compat.v1.assign_add instead.\n",
            "\n"
          ],
          "name": "stderr"
        },
        {
          "output_type": "stream",
          "text": [
            "Train on 60000 samples, validate on 10000 samples\n",
            "Epoch 1/50\n",
            "60000/60000 [==============================] - 5s 79us/step - loss: 0.3541 - val_loss: 0.2710\n",
            "Epoch 2/50\n",
            "60000/60000 [==============================] - 1s 17us/step - loss: 0.2640 - val_loss: 0.2535\n",
            "Epoch 3/50\n",
            "60000/60000 [==============================] - 1s 17us/step - loss: 0.2435 - val_loss: 0.2313\n",
            "Epoch 4/50\n",
            "60000/60000 [==============================] - 1s 16us/step - loss: 0.2230 - val_loss: 0.2126\n",
            "Epoch 5/50\n",
            "60000/60000 [==============================] - 1s 16us/step - loss: 0.2069 - val_loss: 0.1991\n",
            "Epoch 6/50\n",
            "60000/60000 [==============================] - 1s 17us/step - loss: 0.1953 - val_loss: 0.1891\n",
            "Epoch 7/50\n",
            "60000/60000 [==============================] - 1s 17us/step - loss: 0.1866 - val_loss: 0.1815\n",
            "Epoch 8/50\n",
            "60000/60000 [==============================] - 1s 16us/step - loss: 0.1796 - val_loss: 0.1751\n",
            "Epoch 9/50\n",
            "60000/60000 [==============================] - 1s 17us/step - loss: 0.1738 - val_loss: 0.1698\n",
            "Epoch 10/50\n",
            "60000/60000 [==============================] - 1s 16us/step - loss: 0.1687 - val_loss: 0.1650\n",
            "Epoch 11/50\n",
            "60000/60000 [==============================] - 1s 16us/step - loss: 0.1641 - val_loss: 0.1605\n",
            "Epoch 12/50\n",
            "60000/60000 [==============================] - 1s 16us/step - loss: 0.1598 - val_loss: 0.1565\n",
            "Epoch 13/50\n",
            "60000/60000 [==============================] - 1s 16us/step - loss: 0.1559 - val_loss: 0.1528\n",
            "Epoch 14/50\n",
            "60000/60000 [==============================] - 1s 16us/step - loss: 0.1524 - val_loss: 0.1493\n",
            "Epoch 15/50\n",
            "60000/60000 [==============================] - 1s 17us/step - loss: 0.1492 - val_loss: 0.1463\n",
            "Epoch 16/50\n",
            "60000/60000 [==============================] - 1s 16us/step - loss: 0.1463 - val_loss: 0.1435\n",
            "Epoch 17/50\n",
            "60000/60000 [==============================] - 1s 17us/step - loss: 0.1435 - val_loss: 0.1408\n",
            "Epoch 18/50\n",
            "60000/60000 [==============================] - 1s 16us/step - loss: 0.1410 - val_loss: 0.1384\n",
            "Epoch 19/50\n",
            "60000/60000 [==============================] - 1s 16us/step - loss: 0.1387 - val_loss: 0.1361\n",
            "Epoch 20/50\n",
            "60000/60000 [==============================] - 1s 16us/step - loss: 0.1364 - val_loss: 0.1339\n",
            "Epoch 21/50\n",
            "60000/60000 [==============================] - 1s 16us/step - loss: 0.1343 - val_loss: 0.1317\n",
            "Epoch 22/50\n",
            "60000/60000 [==============================] - 1s 16us/step - loss: 0.1322 - val_loss: 0.1297\n",
            "Epoch 23/50\n",
            "60000/60000 [==============================] - 1s 17us/step - loss: 0.1303 - val_loss: 0.1278\n",
            "Epoch 24/50\n",
            "60000/60000 [==============================] - 1s 17us/step - loss: 0.1284 - val_loss: 0.1260\n",
            "Epoch 25/50\n",
            "60000/60000 [==============================] - 1s 17us/step - loss: 0.1267 - val_loss: 0.1242\n",
            "Epoch 26/50\n",
            "60000/60000 [==============================] - 1s 17us/step - loss: 0.1250 - val_loss: 0.1226\n",
            "Epoch 27/50\n",
            "60000/60000 [==============================] - 1s 17us/step - loss: 0.1234 - val_loss: 0.1210\n",
            "Epoch 28/50\n",
            "60000/60000 [==============================] - 1s 17us/step - loss: 0.1219 - val_loss: 0.1195\n",
            "Epoch 29/50\n",
            "60000/60000 [==============================] - 1s 17us/step - loss: 0.1204 - val_loss: 0.1180\n",
            "Epoch 30/50\n",
            "60000/60000 [==============================] - 1s 17us/step - loss: 0.1191 - val_loss: 0.1167\n",
            "Epoch 31/50\n",
            "60000/60000 [==============================] - 1s 17us/step - loss: 0.1178 - val_loss: 0.1155\n",
            "Epoch 32/50\n",
            "60000/60000 [==============================] - 1s 17us/step - loss: 0.1166 - val_loss: 0.1143\n",
            "Epoch 33/50\n",
            "60000/60000 [==============================] - 1s 17us/step - loss: 0.1155 - val_loss: 0.1132\n",
            "Epoch 34/50\n",
            "60000/60000 [==============================] - 1s 17us/step - loss: 0.1144 - val_loss: 0.1122\n",
            "Epoch 35/50\n",
            "60000/60000 [==============================] - 1s 16us/step - loss: 0.1134 - val_loss: 0.1113\n",
            "Epoch 36/50\n",
            "60000/60000 [==============================] - 1s 16us/step - loss: 0.1125 - val_loss: 0.1104\n",
            "Epoch 37/50\n",
            "60000/60000 [==============================] - 1s 16us/step - loss: 0.1117 - val_loss: 0.1096\n",
            "Epoch 38/50\n",
            "60000/60000 [==============================] - 1s 16us/step - loss: 0.1109 - val_loss: 0.1089\n",
            "Epoch 39/50\n",
            "60000/60000 [==============================] - 1s 16us/step - loss: 0.1102 - val_loss: 0.1081\n",
            "Epoch 40/50\n",
            "60000/60000 [==============================] - 1s 16us/step - loss: 0.1095 - val_loss: 0.1075\n",
            "Epoch 41/50\n",
            "60000/60000 [==============================] - 1s 17us/step - loss: 0.1089 - val_loss: 0.1069\n",
            "Epoch 42/50\n",
            "60000/60000 [==============================] - 1s 17us/step - loss: 0.1084 - val_loss: 0.1064\n",
            "Epoch 43/50\n",
            "60000/60000 [==============================] - 1s 16us/step - loss: 0.1078 - val_loss: 0.1058\n",
            "Epoch 44/50\n",
            "60000/60000 [==============================] - 1s 16us/step - loss: 0.1073 - val_loss: 0.1054\n",
            "Epoch 45/50\n",
            "60000/60000 [==============================] - 1s 16us/step - loss: 0.1069 - val_loss: 0.1049\n",
            "Epoch 46/50\n",
            "60000/60000 [==============================] - 1s 16us/step - loss: 0.1064 - val_loss: 0.1045\n",
            "Epoch 47/50\n",
            "60000/60000 [==============================] - 1s 16us/step - loss: 0.1060 - val_loss: 0.1041\n",
            "Epoch 48/50\n",
            "60000/60000 [==============================] - 1s 17us/step - loss: 0.1056 - val_loss: 0.1037\n",
            "Epoch 49/50\n",
            "60000/60000 [==============================] - 1s 17us/step - loss: 0.1053 - val_loss: 0.1034\n",
            "Epoch 50/50\n",
            "60000/60000 [==============================] - 1s 16us/step - loss: 0.1049 - val_loss: 0.1030\n"
          ],
          "name": "stdout"
        },
        {
          "output_type": "execute_result",
          "data": {
            "text/plain": [
              "<keras.callbacks.History at 0x7f7b52547ef0>"
            ]
          },
          "metadata": {
            "tags": []
          },
          "execution_count": 21
        }
      ]
    },
    {
      "cell_type": "code",
      "metadata": {
        "id": "ZEC5VXth6V8B",
        "colab_type": "code",
        "colab": {}
      },
      "source": [
        "encoded_imgs = encoder.predict(x_test)\n",
        "decoded_imgs = decoder.predict(encoded_imgs)"
      ],
      "execution_count": 0,
      "outputs": []
    },
    {
      "cell_type": "code",
      "metadata": {
        "id": "-qmvpsZe7MMt",
        "colab_type": "code",
        "outputId": "648dad16-1b46-4fce-bd98-419a8a14e65a",
        "colab": {
          "base_uri": "https://localhost:8080/",
          "height": 244
        }
      },
      "source": [
        "import matplotlib.pyplot as plt\n",
        "\n",
        "n = 10  # how many digits we will display\n",
        "plt.figure(figsize=(20, 4))\n",
        "for i in range(n):\n",
        "    # display original\n",
        "    ax = plt.subplot(2, n, i + 1)\n",
        "    plt.imshow(x_test[i].reshape(28, 28))\n",
        "    plt.gray()\n",
        "    ax.get_xaxis().set_visible(False)\n",
        "    ax.get_yaxis().set_visible(False)\n",
        "\n",
        "    # display reconstruction\n",
        "    ax = plt.subplot(2, n, i + 1 + n)\n",
        "    plt.imshow(decoded_imgs[i].reshape(28, 28))\n",
        "    plt.gray()\n",
        "    ax.get_xaxis().set_visible(False)\n",
        "    ax.get_yaxis().set_visible(False)\n",
        "plt.show()"
      ],
      "execution_count": 0,
      "outputs": [
        {
          "output_type": "display_data",
          "data": {
            "image/png": "[encoded data removed]",
            "text/plain": [
              "<Figure size 1440x288 with 20 Axes>"
            ]
          },
          "metadata": {
            "tags": []
          }
        }
      ]
    },
    {
      "cell_type": "markdown",
      "metadata": {
        "id": "XxApm-v7DDSv",
        "colab_type": "text"
      },
      "source": [
        "Sparsity-Content Autoencoder"
      ]
    },
    {
      "cell_type": "code",
      "metadata": {
        "id": "jk4Mbpw78NNG",
        "colab_type": "code",
        "colab": {}
      },
      "source": [
        "from keras import regularizers\n",
        "\n",
        "encoding_dim = 32\n",
        "\n",
        "input_img = Input(shape=(784,))\n",
        "# add a Dense layer with a L1 activity regularizer\n",
        "encoded = Dense(encoding_dim, activation='relu',\n",
        "                activity_regularizer=regularizers.l1(10e-5))(input_img)\n",
        "decoded = Dense(784, activation='sigmoid')(encoded)\n",
        "\n",
        "autoencoder = Model(input_img, decoded)"
      ],
      "execution_count": 0,
      "outputs": []
    },
    {
      "cell_type": "code",
      "metadata": {
        "id": "rAnpajFQCEGI",
        "colab_type": "code",
        "colab": {}
      },
      "source": [
        "autoencoder.compile(optimizer='adadelta', loss='binary_crossentropy')"
      ],
      "execution_count": 0,
      "outputs": []
    },
    {
      "cell_type": "code",
      "metadata": {
        "id": "tylqsEpBCuva",
        "colab_type": "code",
        "outputId": "a183a80a-778c-49ba-cbff-5f8200a89106",
        "colab": {
          "base_uri": "https://localhost:8080/",
          "height": 1000
        }
      },
      "source": [
        "autoencoder.fit(x_train, x_train,\n",
        "                epochs=50,\n",
        "                batch_size=256,\n",
        "                shuffle=True,\n",
        "                validation_data=(x_test, x_test))"
      ],
      "execution_count": 0,
      "outputs": [
        {
          "output_type": "stream",
          "text": [
            "Train on 60000 samples, validate on 10000 samples\n",
            "Epoch 1/50\n",
            "60000/60000 [==============================] - 1s 21us/step - loss: 0.6741 - val_loss: 0.6485\n",
            "Epoch 2/50\n",
            "60000/60000 [==============================] - 1s 18us/step - loss: 0.6284 - val_loss: 0.6090\n",
            "Epoch 3/50\n",
            "60000/60000 [==============================] - 1s 18us/step - loss: 0.5916 - val_loss: 0.5749\n",
            "Epoch 4/50\n",
            "60000/60000 [==============================] - 1s 17us/step - loss: 0.5598 - val_loss: 0.5454\n",
            "Epoch 5/50\n",
            "60000/60000 [==============================] - 1s 17us/step - loss: 0.5323 - val_loss: 0.5198\n",
            "Epoch 6/50\n",
            "60000/60000 [==============================] - 1s 16us/step - loss: 0.5084 - val_loss: 0.4975\n",
            "Epoch 7/50\n",
            "60000/60000 [==============================] - 1s 17us/step - loss: 0.4875 - val_loss: 0.4780\n",
            "Epoch 8/50\n",
            "60000/60000 [==============================] - 1s 17us/step - loss: 0.4692 - val_loss: 0.4609\n",
            "Epoch 9/50\n",
            "60000/60000 [==============================] - 1s 17us/step - loss: 0.4531 - val_loss: 0.4457\n",
            "Epoch 10/50\n",
            "60000/60000 [==============================] - 1s 16us/step - loss: 0.4388 - val_loss: 0.4324\n",
            "Epoch 11/50\n",
            "60000/60000 [==============================] - 1s 17us/step - loss: 0.4262 - val_loss: 0.4205\n",
            "Epoch 12/50\n",
            "60000/60000 [==============================] - 1s 16us/step - loss: 0.4150 - val_loss: 0.4098\n",
            "Epoch 13/50\n",
            "60000/60000 [==============================] - 1s 17us/step - loss: 0.4049 - val_loss: 0.4003\n",
            "Epoch 14/50\n",
            "60000/60000 [==============================] - 1s 16us/step - loss: 0.3959 - val_loss: 0.3918\n",
            "Epoch 15/50\n",
            "60000/60000 [==============================] - 1s 16us/step - loss: 0.3877 - val_loss: 0.3840\n",
            "Epoch 16/50\n",
            "60000/60000 [==============================] - 1s 17us/step - loss: 0.3804 - val_loss: 0.3771\n",
            "Epoch 17/50\n",
            "60000/60000 [==============================] - 1s 16us/step - loss: 0.3737 - val_loss: 0.3707\n",
            "Epoch 18/50\n",
            "60000/60000 [==============================] - 1s 17us/step - loss: 0.3676 - val_loss: 0.3649\n",
            "Epoch 19/50\n",
            "60000/60000 [==============================] - 1s 17us/step - loss: 0.3621 - val_loss: 0.3596\n",
            "Epoch 20/50\n",
            "60000/60000 [==============================] - 1s 16us/step - loss: 0.3570 - val_loss: 0.3548\n",
            "Epoch 21/50\n",
            "60000/60000 [==============================] - 1s 16us/step - loss: 0.3524 - val_loss: 0.3503\n",
            "Epoch 22/50\n",
            "60000/60000 [==============================] - 1s 17us/step - loss: 0.3481 - val_loss: 0.3463\n",
            "Epoch 23/50\n",
            "60000/60000 [==============================] - 1s 17us/step - loss: 0.3442 - val_loss: 0.3425\n",
            "Epoch 24/50\n",
            "60000/60000 [==============================] - 1s 17us/step - loss: 0.3406 - val_loss: 0.3390\n",
            "Epoch 25/50\n",
            "60000/60000 [==============================] - 1s 17us/step - loss: 0.3372 - val_loss: 0.3357\n",
            "Epoch 26/50\n",
            "60000/60000 [==============================] - 1s 17us/step - loss: 0.3341 - val_loss: 0.3327\n",
            "Epoch 27/50\n",
            "60000/60000 [==============================] - 1s 17us/step - loss: 0.3312 - val_loss: 0.3299\n",
            "Epoch 28/50\n",
            "60000/60000 [==============================] - 1s 17us/step - loss: 0.3285 - val_loss: 0.3273\n",
            "Epoch 29/50\n",
            "60000/60000 [==============================] - 1s 18us/step - loss: 0.3259 - val_loss: 0.3249\n",
            "Epoch 30/50\n",
            "60000/60000 [==============================] - 1s 16us/step - loss: 0.3236 - val_loss: 0.3226\n",
            "Epoch 31/50\n",
            "60000/60000 [==============================] - 1s 17us/step - loss: 0.3213 - val_loss: 0.3204\n",
            "Epoch 32/50\n",
            "60000/60000 [==============================] - 1s 16us/step - loss: 0.3193 - val_loss: 0.3184\n",
            "Epoch 33/50\n",
            "60000/60000 [==============================] - 1s 17us/step - loss: 0.3173 - val_loss: 0.3165\n",
            "Epoch 34/50\n",
            "60000/60000 [==============================] - 1s 16us/step - loss: 0.3155 - val_loss: 0.3147\n",
            "Epoch 35/50\n",
            "60000/60000 [==============================] - 1s 17us/step - loss: 0.3138 - val_loss: 0.3131\n",
            "Epoch 36/50\n",
            "60000/60000 [==============================] - 1s 16us/step - loss: 0.3121 - val_loss: 0.3115\n",
            "Epoch 37/50\n",
            "60000/60000 [==============================] - 1s 16us/step - loss: 0.3106 - val_loss: 0.3100\n",
            "Epoch 38/50\n",
            "60000/60000 [==============================] - 1s 16us/step - loss: 0.3091 - val_loss: 0.3085\n",
            "Epoch 39/50\n",
            "60000/60000 [==============================] - 1s 17us/step - loss: 0.3077 - val_loss: 0.3072\n",
            "Epoch 40/50\n",
            "60000/60000 [==============================] - 1s 16us/step - loss: 0.3064 - val_loss: 0.3059\n",
            "Epoch 41/50\n",
            "60000/60000 [==============================] - 1s 16us/step - loss: 0.3052 - val_loss: 0.3047\n",
            "Epoch 42/50\n",
            "60000/60000 [==============================] - 1s 17us/step - loss: 0.3040 - val_loss: 0.3035\n",
            "Epoch 43/50\n",
            "60000/60000 [==============================] - 1s 16us/step - loss: 0.3029 - val_loss: 0.3024\n",
            "Epoch 44/50\n",
            "60000/60000 [==============================] - 1s 16us/step - loss: 0.3018 - val_loss: 0.3014\n",
            "Epoch 45/50\n",
            "60000/60000 [==============================] - 1s 17us/step - loss: 0.3008 - val_loss: 0.3004\n",
            "Epoch 46/50\n",
            "60000/60000 [==============================] - 1s 17us/step - loss: 0.2998 - val_loss: 0.2994\n",
            "Epoch 47/50\n",
            "60000/60000 [==============================] - 1s 17us/step - loss: 0.2989 - val_loss: 0.2985\n",
            "Epoch 48/50\n",
            "60000/60000 [==============================] - 1s 17us/step - loss: 0.2980 - val_loss: 0.2976\n",
            "Epoch 49/50\n",
            "60000/60000 [==============================] - 1s 16us/step - loss: 0.2971 - val_loss: 0.2968\n",
            "Epoch 50/50\n",
            "60000/60000 [==============================] - 1s 16us/step - loss: 0.2963 - val_loss: 0.2960\n"
          ],
          "name": "stdout"
        },
        {
          "output_type": "execute_result",
          "data": {
            "text/plain": [
              "<keras.callbacks.History at 0x7f7b40ad9da0>"
            ]
          },
          "metadata": {
            "tags": []
          },
          "execution_count": 30
        }
      ]
    },
    {
      "cell_type": "code",
      "metadata": {
        "id": "w-aU58tqDvFJ",
        "colab_type": "code",
        "colab": {}
      },
      "source": [
        "encoded_imgs = encoder.predict(x_test)\n",
        "decoded_imgs = decoder.predict(encoded_imgs)"
      ],
      "execution_count": 0,
      "outputs": []
    },
    {
      "cell_type": "code",
      "metadata": {
        "id": "PWjQYF5lEleY",
        "colab_type": "code",
        "outputId": "1f291636-6c8b-483b-9f61-fe4dce97495f",
        "colab": {
          "base_uri": "https://localhost:8080/",
          "height": 244
        }
      },
      "source": [
        "import matplotlib.pyplot as plt\n",
        "\n",
        "n = 10  # how many digits we will display\n",
        "plt.figure(figsize=(20, 4))\n",
        "for i in range(n):\n",
        "    # display original\n",
        "    ax = plt.subplot(2, n, i + 1)\n",
        "    plt.imshow(x_test[i].reshape(28, 28))\n",
        "    plt.gray()\n",
        "    ax.get_xaxis().set_visible(False)\n",
        "    ax.get_yaxis().set_visible(False)\n",
        "\n",
        "    # display reconstruction\n",
        "    ax = plt.subplot(2, n, i + 1 + n)\n",
        "    plt.imshow(decoded_imgs[i].reshape(28, 28))\n",
        "    plt.gray()\n",
        "    ax.get_xaxis().set_visible(False)\n",
        "    ax.get_yaxis().set_visible(False)\n",
        "plt.show()"
      ],
      "execution_count": 0,
      "outputs": [
        {
          "output_type": "display_data",
          "data": {
            "image/png": "[encoded data removed]",
            "text/plain": [
              "<Figure size 1440x288 with 20 Axes>"
            ]
          },
          "metadata": {
            "tags": []
          }
        }
      ]
    },
    {
      "cell_type": "code",
      "metadata": {
        "id": "gHD4cc99EpdH",
        "colab_type": "code",
        "colab": {}
      },
      "source": [
        ""
      ],
      "execution_count": 0,
      "outputs": []
    }
  ]
}